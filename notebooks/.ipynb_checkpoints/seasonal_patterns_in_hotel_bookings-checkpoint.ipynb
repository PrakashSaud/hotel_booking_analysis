{
 "cells": [
  {
   "cell_type": "markdown",
   "id": "109f7f22-8e68-45a1-b479-0c0f349144b3",
   "metadata": {},
   "source": [
    "\n",
    "📌 Step 1: Define the Objective Clearly\n",
    "\n",
    "You want to find which months or seasons see more or fewer bookings, and how patterns differ between hotel types.\n",
    "\n",
    "Questions to guide you:\n",
    "\t•\tWhen do most guests book?\n",
    "\t•\tDoes demand vary between City and Resort hotels?\n",
    "\t•\tAre there months with frequent cancellations?\n",
    "\n",
    "⸻\n",
    "\n",
    "📌 Step 2: Load and Understand the Dataset\n",
    "\n",
    "Key Columns to Explore:\n",
    "\t•\tarrival_date_month\n",
    "\t•\tarrival_date_year\n",
    "\t•\tarrival_date_week_number\n",
    "\t•\thotel\n",
    "\t•\tstays_in_week_nights, stays_in_weekend_nights\n",
    "\t•\treservation_status\n",
    "\t•\tis_canceled (if available)\n",
    "\n",
    "You want to:\n",
    "\t•\tLook at booking volume trends over time\n",
    "\t•\tPossibly focus only on completed bookings (exclude canceled)\n",
    "\n",
    "⸻\n",
    "\n",
    "📌 Step 3: Clean and Prepare Data\n",
    "\n",
    "What to do:\n",
    "\t•\tConvert arrival_date_month from string to a numerical month (for sorting)\n",
    "\t•\tCreate a new date column using year, month, and maybe day (for time series plots)\n",
    "\t•\tCreate a total_nights column:\n",
    "total_nights = stays_in_week_nights + stays_in_weekend_nights\n",
    "\t•\tDrop canceled bookings (if you’re focused only on actual guests)\n",
    "\n",
    "Optional:\n",
    "\t•\tGroup months into seasons:\n",
    "\t•\tSpring: Mar–May\n",
    "\t•\tSummer: Jun–Aug\n",
    "\t•\tFall: Sep–Nov\n",
    "\t•\tWinter: Dec–Feb\n",
    "\n",
    "⸻\n",
    "\n",
    "📌 Step 4: Analyze Trends\n",
    "\n",
    "Break down your analysis into angles:\n",
    "\n",
    "A. Monthly Booking Trends\n",
    "\t•\tGroup data by arrival_date_month and count total bookings.\n",
    "\t•\tCreate a bar chart or line plot to show bookings per month.\n",
    "\n",
    "B. Seasonal Booking Patterns\n",
    "\t•\tCreate a new season column and group bookings by season.\n",
    "\t•\tCompare booking totals per season.\n",
    "\n",
    "C. Hotel Type Comparison\n",
    "\t•\tCompare monthly/seasonal booking trends for:\n",
    "\t•\tCity Hotel\n",
    "\t•\tResort Hotel\n",
    "\t•\tUse side-by-side bar charts or separate line plots.\n",
    "\n",
    "D. Optional – Cancellations by Season\n",
    "\t•\tCompare reservation_status or is_canceled by month or season.\n",
    "\t•\tFind out if certain months have high cancellation rates.\n",
    "\n",
    "⸻\n",
    "\n",
    "📌 Step 5: Visualize the Results\n",
    "\n",
    "Visualization Ideas:\n",
    "\t•\t📊 Bar chart: Bookings by month (color-coded by hotel type)\n",
    "\t•\t🌤️ Bar chart: Total bookings by season\n",
    "\t•\t📈 Line graph: Trend of bookings over time (weekly/monthly)\n",
    "\t•\t📅 Heatmap: Bookings by day of week vs. month\n",
    "\n",
    "⸻\n",
    "\n",
    "📌 Step 6: Interpret the Insights\n",
    "\n",
    "Examples:\n",
    "\t•\tJuly and August have peak bookings for Resort hotels (summer vacation).\n",
    "\t•\tDecember sees lower bookings but higher cancellations.\n",
    "\t•\tCity hotels may show steady demand year-round with business travelers.\n",
    "\t•\tWeekends vs. weekdays show different booking patterns.\n",
    "\n",
    "⸻\n",
    "\n",
    "📌 Step 7: Business Recommendations\n",
    "\n",
    "Turn your insights into recommendations:\n",
    "\t•\tHire seasonal staff in July–August for Resort hotels.\n",
    "\t•\tOffer promotions in low-demand months like January or November.\n",
    "\t•\tIncrease deposit requirements during high-cancellation periods.\n",
    "\n",
    "⸻\n",
    "\n",
    "📌 Step 8: Document and Present\n",
    "\n",
    "Prepare a professional report or Jupyter Notebook with:\n",
    "\t•\tClear section titles\n",
    "\t•\tClean graphs\n",
    "\t•\tConcise bullet-point takeaways\n",
    "\t•\tA short executive summary\n",
    "\n",
    "Optional: Upload the notebook to GitHub and add it to your portfolio."
   ]
  },
  {
   "cell_type": "markdown",
   "id": "27b4ea3a-8696-4379-823d-239306ac7365",
   "metadata": {},
   "source": [
    "🏨 Seasonal Patterns in Hotel Bookings\n",
    "\n",
    "Exploratory Data Analysis (EDA) using the Hotel Booking Demand Dataset\n",
    "\n",
    "⸻\n",
    "\n",
    "📌 1. Introduction\n",
    "\t•\tObjective: Identify how hotel bookings change across months and seasons.\n",
    "\t•\tGoal: Help hotel managers with seasonal planning (staffing, pricing, marketing).\n",
    "\t•\tDataset Source: Kaggle – Hotel Booking Demand Dataset\n",
    "\t•\tProject Role: Demonstrate EDA, time-based trend analysis, and business insight generation.\n",
    "\n",
    "⸻\n",
    "\n",
    "📌 2. Data Overview\n",
    "\t•\tShow basic dataset structure\n",
    "\t•\tDisplay the first 5–10 rows\n",
    "\t•\tCheck shape (rows, columns)\n",
    "\t•\tBriefly describe key columns used for seasonal analysis:\n",
    "\t•\tarrival_date_year, arrival_date_month, hotel\n",
    "\t•\tstays_in_weekend_nights, stays_in_week_nights\n",
    "\t•\treservation_status, is_canceled (if included)\n",
    "\n",
    "⸻\n",
    "\n",
    "📌 3. Data Cleaning & Preparation\n",
    "\t•\tConvert month names to numbers (Jan = 1, etc.)\n",
    "\t•\tCombine year, month, day columns into a single date column\n",
    "\t•\tCreate a total_nights column\n",
    "\t•\tFilter out canceled bookings (if your focus is on completed stays)\n",
    "\t•\tOptional: Create a season column (Winter, Spring, Summer, Fall)\n",
    "\n",
    "⸻\n",
    "\n",
    "📌 4. Exploratory Analysis\n",
    "\n",
    "A. Monthly Booking Trends\n",
    "\t•\tBookings per month across all years\n",
    "\t•\tVisualize with a bar chart\n",
    "\t•\tLook for peaks and dips\n",
    "\n",
    "B. Seasonal Booking Patterns\n",
    "\t•\tGroup by season → analyze total bookings per season\n",
    "\t•\tCompare Resort vs. City hotel behavior\n",
    "\t•\tVisualize with grouped bar charts or pie charts\n",
    "\n",
    "C. Hotel Type Comparison\n",
    "\t•\tCompare monthly booking trends between City and Resort hotels\n",
    "\t•\tUse line charts or grouped bar plots\n",
    "\n",
    "D. Optional: Cancellations by Month or Season\n",
    "\t•\tCompare cancellations (if using is_canceled or reservation_status)\n",
    "\t•\tDetect if some months have high cancellation rates\n",
    "\t•\tProvide possible explanations\n",
    "\n",
    "⸻\n",
    "\n",
    "📌 5. Time Series View (Optional but Valuable)\n",
    "\t•\tUse newly created date column as time index\n",
    "\t•\tPlot weekly or monthly booking trends\n",
    "\t•\tApply rolling average for smooth trend line\n",
    "\t•\tDetect yearly repeating patterns (seasonality)\n",
    "\n",
    "⸻\n",
    "\n",
    "📌 6. Key Insights\n",
    "\n",
    "Summarize your discoveries:\n",
    "\t•\tWhich months and seasons have the most/least bookings?\n",
    "\t•\tCity vs. Resort hotel trends\n",
    "\t•\tAny surprising cancellation patterns?\n",
    "\t•\tHow far in advance people book (if relevant)\n",
    "\n",
    "⸻\n",
    "\n",
    "📌 7. Business Recommendations\n",
    "\n",
    "Provide actionable suggestions:\n",
    "\t•\tIncrease staff/resources during high seasons\n",
    "\t•\tOffer promotions in low-demand months\n",
    "\t•\tPrepare for cancellations during certain times\n",
    "\n",
    "⸻\n",
    "\n",
    "📌 8. Conclusion\n",
    "\n",
    "Wrap up:\n",
    "\t•\tRe-state your findings in brief\n",
    "\t•\tMention tools/skills used\n",
    "\t•\tReflect on how this analysis helps decision-making\n",
    "\n",
    "⸻\n",
    "\n",
    "📌 9. Appendix (Optional)\n",
    "\t•\tShow any helper functions\n",
    "\t•\tAdditional graphs that didn’t make the main section\n",
    "\t•\tVersion of Python and packages used\n",
    "\n",
    "⸻\n",
    "\n",
    "✅ Tools to Mention in Notebook\n",
    "\t•\tPandas – data loading, manipulation\n",
    "\t•\tMatplotlib / Seaborn – visualizations\n",
    "\t•\tDatetime – for date handling\n",
    "\t•\tPlotly (optional) – for interactive charts\n",
    "\t•\tJupyter Notebook – presentation and documentation"
   ]
  },
  {
   "cell_type": "markdown",
   "id": "a4685176-ba18-4333-801d-75342a4909a0",
   "metadata": {},
   "source": [
    "# Seasonal Patterns in Hotel Bookings\n",
    "##"
   ]
  },
  {
   "cell_type": "markdown",
   "id": "0f7b26c2-babb-4b98-a605-9e9f1c803444",
   "metadata": {},
   "source": [
    "# 🧭 Introduction\n",
    "\n",
    "This project explores seasonal trends in hotel bookings using the Hotel Booking Demand dataset from Kaggle. The goal is to analyze booking behavior over time—across months and seasons—and identify patterns that can help hotel managers make data-informed decisions regarding staffing, pricing, and promotions.\n",
    "\n",
    "We will explore:\n",
    "- When bookings peak and decline.\n",
    "- Differences in seasonal demand between City and Resort hotels.\n",
    "- Optional analysis on cancellation trends by time period.\n",
    "\n",
    "This notebook demonstrates practical data science skills including EDA, data visualization, and time-based trend analysis."
   ]
  },
  {
   "cell_type": "code",
   "execution_count": 1,
   "id": "5470ef98-bc6a-418f-b03a-31352466f481",
   "metadata": {},
   "outputs": [
    {
     "name": "stdout",
     "output_type": "stream",
     "text": [
      "Shape of dataset:  (119390, 32)\n"
     ]
    },
    {
     "data": {
      "text/html": [
       "<div>\n",
       "<style scoped>\n",
       "    .dataframe tbody tr th:only-of-type {\n",
       "        vertical-align: middle;\n",
       "    }\n",
       "\n",
       "    .dataframe tbody tr th {\n",
       "        vertical-align: top;\n",
       "    }\n",
       "\n",
       "    .dataframe thead th {\n",
       "        text-align: right;\n",
       "    }\n",
       "</style>\n",
       "<table border=\"1\" class=\"dataframe\">\n",
       "  <thead>\n",
       "    <tr style=\"text-align: right;\">\n",
       "      <th></th>\n",
       "      <th>hotel</th>\n",
       "      <th>is_canceled</th>\n",
       "      <th>lead_time</th>\n",
       "      <th>arrival_date_year</th>\n",
       "      <th>arrival_date_month</th>\n",
       "      <th>arrival_date_week_number</th>\n",
       "      <th>arrival_date_day_of_month</th>\n",
       "      <th>stays_in_weekend_nights</th>\n",
       "      <th>stays_in_week_nights</th>\n",
       "      <th>adults</th>\n",
       "      <th>...</th>\n",
       "      <th>deposit_type</th>\n",
       "      <th>agent</th>\n",
       "      <th>company</th>\n",
       "      <th>days_in_waiting_list</th>\n",
       "      <th>customer_type</th>\n",
       "      <th>adr</th>\n",
       "      <th>required_car_parking_spaces</th>\n",
       "      <th>total_of_special_requests</th>\n",
       "      <th>reservation_status</th>\n",
       "      <th>reservation_status_date</th>\n",
       "    </tr>\n",
       "  </thead>\n",
       "  <tbody>\n",
       "    <tr>\n",
       "      <th>0</th>\n",
       "      <td>Resort Hotel</td>\n",
       "      <td>0</td>\n",
       "      <td>342</td>\n",
       "      <td>2015</td>\n",
       "      <td>July</td>\n",
       "      <td>27</td>\n",
       "      <td>1</td>\n",
       "      <td>0</td>\n",
       "      <td>0</td>\n",
       "      <td>2</td>\n",
       "      <td>...</td>\n",
       "      <td>No Deposit</td>\n",
       "      <td>NaN</td>\n",
       "      <td>NaN</td>\n",
       "      <td>0</td>\n",
       "      <td>Transient</td>\n",
       "      <td>0.0</td>\n",
       "      <td>0</td>\n",
       "      <td>0</td>\n",
       "      <td>Check-Out</td>\n",
       "      <td>2015-07-01</td>\n",
       "    </tr>\n",
       "    <tr>\n",
       "      <th>1</th>\n",
       "      <td>Resort Hotel</td>\n",
       "      <td>0</td>\n",
       "      <td>737</td>\n",
       "      <td>2015</td>\n",
       "      <td>July</td>\n",
       "      <td>27</td>\n",
       "      <td>1</td>\n",
       "      <td>0</td>\n",
       "      <td>0</td>\n",
       "      <td>2</td>\n",
       "      <td>...</td>\n",
       "      <td>No Deposit</td>\n",
       "      <td>NaN</td>\n",
       "      <td>NaN</td>\n",
       "      <td>0</td>\n",
       "      <td>Transient</td>\n",
       "      <td>0.0</td>\n",
       "      <td>0</td>\n",
       "      <td>0</td>\n",
       "      <td>Check-Out</td>\n",
       "      <td>2015-07-01</td>\n",
       "    </tr>\n",
       "    <tr>\n",
       "      <th>2</th>\n",
       "      <td>Resort Hotel</td>\n",
       "      <td>0</td>\n",
       "      <td>7</td>\n",
       "      <td>2015</td>\n",
       "      <td>July</td>\n",
       "      <td>27</td>\n",
       "      <td>1</td>\n",
       "      <td>0</td>\n",
       "      <td>1</td>\n",
       "      <td>1</td>\n",
       "      <td>...</td>\n",
       "      <td>No Deposit</td>\n",
       "      <td>NaN</td>\n",
       "      <td>NaN</td>\n",
       "      <td>0</td>\n",
       "      <td>Transient</td>\n",
       "      <td>75.0</td>\n",
       "      <td>0</td>\n",
       "      <td>0</td>\n",
       "      <td>Check-Out</td>\n",
       "      <td>2015-07-02</td>\n",
       "    </tr>\n",
       "    <tr>\n",
       "      <th>3</th>\n",
       "      <td>Resort Hotel</td>\n",
       "      <td>0</td>\n",
       "      <td>13</td>\n",
       "      <td>2015</td>\n",
       "      <td>July</td>\n",
       "      <td>27</td>\n",
       "      <td>1</td>\n",
       "      <td>0</td>\n",
       "      <td>1</td>\n",
       "      <td>1</td>\n",
       "      <td>...</td>\n",
       "      <td>No Deposit</td>\n",
       "      <td>304.0</td>\n",
       "      <td>NaN</td>\n",
       "      <td>0</td>\n",
       "      <td>Transient</td>\n",
       "      <td>75.0</td>\n",
       "      <td>0</td>\n",
       "      <td>0</td>\n",
       "      <td>Check-Out</td>\n",
       "      <td>2015-07-02</td>\n",
       "    </tr>\n",
       "    <tr>\n",
       "      <th>4</th>\n",
       "      <td>Resort Hotel</td>\n",
       "      <td>0</td>\n",
       "      <td>14</td>\n",
       "      <td>2015</td>\n",
       "      <td>July</td>\n",
       "      <td>27</td>\n",
       "      <td>1</td>\n",
       "      <td>0</td>\n",
       "      <td>2</td>\n",
       "      <td>2</td>\n",
       "      <td>...</td>\n",
       "      <td>No Deposit</td>\n",
       "      <td>240.0</td>\n",
       "      <td>NaN</td>\n",
       "      <td>0</td>\n",
       "      <td>Transient</td>\n",
       "      <td>98.0</td>\n",
       "      <td>0</td>\n",
       "      <td>1</td>\n",
       "      <td>Check-Out</td>\n",
       "      <td>2015-07-03</td>\n",
       "    </tr>\n",
       "  </tbody>\n",
       "</table>\n",
       "<p>5 rows × 32 columns</p>\n",
       "</div>"
      ],
      "text/plain": [
       "          hotel  is_canceled  lead_time  arrival_date_year arrival_date_month  \\\n",
       "0  Resort Hotel            0        342               2015               July   \n",
       "1  Resort Hotel            0        737               2015               July   \n",
       "2  Resort Hotel            0          7               2015               July   \n",
       "3  Resort Hotel            0         13               2015               July   \n",
       "4  Resort Hotel            0         14               2015               July   \n",
       "\n",
       "   arrival_date_week_number  arrival_date_day_of_month  \\\n",
       "0                        27                          1   \n",
       "1                        27                          1   \n",
       "2                        27                          1   \n",
       "3                        27                          1   \n",
       "4                        27                          1   \n",
       "\n",
       "   stays_in_weekend_nights  stays_in_week_nights  adults  ...  deposit_type  \\\n",
       "0                        0                     0       2  ...    No Deposit   \n",
       "1                        0                     0       2  ...    No Deposit   \n",
       "2                        0                     1       1  ...    No Deposit   \n",
       "3                        0                     1       1  ...    No Deposit   \n",
       "4                        0                     2       2  ...    No Deposit   \n",
       "\n",
       "   agent company days_in_waiting_list customer_type   adr  \\\n",
       "0    NaN     NaN                    0     Transient   0.0   \n",
       "1    NaN     NaN                    0     Transient   0.0   \n",
       "2    NaN     NaN                    0     Transient  75.0   \n",
       "3  304.0     NaN                    0     Transient  75.0   \n",
       "4  240.0     NaN                    0     Transient  98.0   \n",
       "\n",
       "   required_car_parking_spaces  total_of_special_requests  reservation_status  \\\n",
       "0                            0                          0           Check-Out   \n",
       "1                            0                          0           Check-Out   \n",
       "2                            0                          0           Check-Out   \n",
       "3                            0                          0           Check-Out   \n",
       "4                            0                          1           Check-Out   \n",
       "\n",
       "  reservation_status_date  \n",
       "0              2015-07-01  \n",
       "1              2015-07-01  \n",
       "2              2015-07-02  \n",
       "3              2015-07-02  \n",
       "4              2015-07-03  \n",
       "\n",
       "[5 rows x 32 columns]"
      ]
     },
     "execution_count": 1,
     "metadata": {},
     "output_type": "execute_result"
    }
   ],
   "source": [
    "# Importing necessary libraries\n",
    "import pandas as pd\n",
    "import numpy as np\n",
    "import matplotlib.pyplot as plt\n",
    "import seaborn as sns\n",
    "import datetime as dt\n",
    "\n",
    "# set plot style\n",
    "sns.set(style=\"whitegrid\")\n",
    "\n",
    "# Load the dataset\n",
    "file_path = \"../data/raw/hotel_bookings.csv\"\n",
    "df = pd.read_csv(file_path)\n",
    "\n",
    "# Basic dataset info\n",
    "print(\"Shape of dataset: \", df.shape)\n",
    "df.head()"
   ]
  },
  {
   "cell_type": "code",
   "execution_count": 2,
   "id": "4c8cb9a3-c64b-45a5-9fcb-aa60029dc181",
   "metadata": {},
   "outputs": [
    {
     "name": "stdout",
     "output_type": "stream",
     "text": [
      "<class 'pandas.core.frame.DataFrame'>\n",
      "RangeIndex: 119390 entries, 0 to 119389\n",
      "Data columns (total 32 columns):\n",
      " #   Column                          Non-Null Count   Dtype  \n",
      "---  ------                          --------------   -----  \n",
      " 0   hotel                           119390 non-null  object \n",
      " 1   is_canceled                     119390 non-null  int64  \n",
      " 2   lead_time                       119390 non-null  int64  \n",
      " 3   arrival_date_year               119390 non-null  int64  \n",
      " 4   arrival_date_month              119390 non-null  object \n",
      " 5   arrival_date_week_number        119390 non-null  int64  \n",
      " 6   arrival_date_day_of_month       119390 non-null  int64  \n",
      " 7   stays_in_weekend_nights         119390 non-null  int64  \n",
      " 8   stays_in_week_nights            119390 non-null  int64  \n",
      " 9   adults                          119390 non-null  int64  \n",
      " 10  children                        119386 non-null  float64\n",
      " 11  babies                          119390 non-null  int64  \n",
      " 12  meal                            119390 non-null  object \n",
      " 13  country                         118902 non-null  object \n",
      " 14  market_segment                  119390 non-null  object \n",
      " 15  distribution_channel            119390 non-null  object \n",
      " 16  is_repeated_guest               119390 non-null  int64  \n",
      " 17  previous_cancellations          119390 non-null  int64  \n",
      " 18  previous_bookings_not_canceled  119390 non-null  int64  \n",
      " 19  reserved_room_type              119390 non-null  object \n",
      " 20  assigned_room_type              119390 non-null  object \n",
      " 21  booking_changes                 119390 non-null  int64  \n",
      " 22  deposit_type                    119390 non-null  object \n",
      " 23  agent                           103050 non-null  float64\n",
      " 24  company                         6797 non-null    float64\n",
      " 25  days_in_waiting_list            119390 non-null  int64  \n",
      " 26  customer_type                   119390 non-null  object \n",
      " 27  adr                             119390 non-null  float64\n",
      " 28  required_car_parking_spaces     119390 non-null  int64  \n",
      " 29  total_of_special_requests       119390 non-null  int64  \n",
      " 30  reservation_status              119390 non-null  object \n",
      " 31  reservation_status_date         119390 non-null  object \n",
      "dtypes: float64(4), int64(16), object(12)\n",
      "memory usage: 29.1+ MB\n"
     ]
    }
   ],
   "source": [
    "# summary of dataset columns\n",
    "df.info()"
   ]
  },
  {
   "cell_type": "markdown",
   "id": "f74f9fc2-6054-4099-a1a0-e30d5e5b12a9",
   "metadata": {},
   "source": [
    "# 📄 Data Overview\n",
    "\n",
    "Key columns of interest include:\n",
    "- `arrival_date_year`, `arrival_date_month`\n",
    "- `hotel`\n",
    "- `stays_in_weekend_nights`, `stays_in_week_nights`\n",
    "- `reservation_status` and `is_canceled` (if present)\n"
   ]
  },
  {
   "cell_type": "markdown",
   "id": "6d6a8474-8934-4f73-bb04-84236f95cb51",
   "metadata": {},
   "source": [
    "# 🧹 Data Cleaning & Preparation\n",
    "\n",
    "Before analysis, we need to clean and structure the data properly.\n",
    "\n",
    "Steps include:\n",
    "- Converting month names into numeric format.\n",
    "- Calculating total nights stayed.\n",
    "- Removing canceled bookings (optional).\n",
    "- Creating a new `season` column (Winter, Spring, Summer, Fall) for seasonal grouping.\n",
    "\n",
    "This preparation ensures we can analyze and visualize time-based trends effectively."
   ]
  },
  {
   "cell_type": "code",
   "execution_count": 3,
   "id": "44dae8ad-e7fa-4c30-b2ac-47d5e2a09389",
   "metadata": {},
   "outputs": [
    {
     "data": {
      "text/plain": [
       "array(['Resort Hotel', 'City Hotel'], dtype=object)"
      ]
     },
     "execution_count": 3,
     "metadata": {},
     "output_type": "execute_result"
    }
   ],
   "source": [
    "# view all unique values for our columns of interest\n",
    "df['hotel'].unique()"
   ]
  },
  {
   "cell_type": "code",
   "execution_count": null,
   "id": "4f36062d-bef1-41bf-9435-13968f54a283",
   "metadata": {},
   "outputs": [],
   "source": []
  },
  {
   "cell_type": "code",
   "execution_count": 4,
   "id": "cb5c6beb-9576-4104-b808-54dc3aad5f00",
   "metadata": {},
   "outputs": [
    {
     "data": {
      "text/plain": [
       "hotel                                  0\n",
       "is_canceled                            0\n",
       "lead_time                              0\n",
       "arrival_date_year                      0\n",
       "arrival_date_month                     0\n",
       "arrival_date_week_number               0\n",
       "arrival_date_day_of_month              0\n",
       "stays_in_weekend_nights                0\n",
       "stays_in_week_nights                   0\n",
       "adults                                 0\n",
       "children                               4\n",
       "babies                                 0\n",
       "meal                                   0\n",
       "country                              488\n",
       "market_segment                         0\n",
       "distribution_channel                   0\n",
       "is_repeated_guest                      0\n",
       "previous_cancellations                 0\n",
       "previous_bookings_not_canceled         0\n",
       "reserved_room_type                     0\n",
       "assigned_room_type                     0\n",
       "booking_changes                        0\n",
       "deposit_type                           0\n",
       "agent                              16340\n",
       "company                           112593\n",
       "days_in_waiting_list                   0\n",
       "customer_type                          0\n",
       "adr                                    0\n",
       "required_car_parking_spaces            0\n",
       "total_of_special_requests              0\n",
       "reservation_status                     0\n",
       "reservation_status_date                0\n",
       "dtype: int64"
      ]
     },
     "execution_count": 4,
     "metadata": {},
     "output_type": "execute_result"
    }
   ],
   "source": [
    "# counting missing values\n",
    "df.isnull().sum()"
   ]
  },
  {
   "cell_type": "code",
   "execution_count": 5,
   "id": "907368a4-9919-4db1-8c26-1822e1ad03e6",
   "metadata": {},
   "outputs": [
    {
     "data": {
      "text/plain": [
       "<Axes: xlabel='hotel', ylabel='count'>"
      ]
     },
     "execution_count": 5,
     "metadata": {},
     "output_type": "execute_result"
    },
    {
     "data": {
      "image/png": "[encoded data removed]",
      "text/plain": [
       "<Figure size 640x480 with 1 Axes>"
      ]
     },
     "metadata": {},
     "output_type": "display_data"
    }
   ],
   "source": [
    "# lets count the 2 different types of hotels\n",
    "sns.countplot(data=df, x='hotel')"
   ]
  },
  {
   "cell_type": "code",
   "execution_count": 6,
   "id": "bcf4c939-50b5-4161-bbcb-8254efa1d9bf",
   "metadata": {},
   "outputs": [
    {
     "data": {
      "text/plain": [
       "array([2015, 2016, 2017])"
      ]
     },
     "execution_count": 6,
     "metadata": {},
     "output_type": "execute_result"
    }
   ],
   "source": [
    "# check distinct years of booking\n",
    "df['arrival_date_year'].unique()"
   ]
  },
  {
   "cell_type": "code",
   "execution_count": 7,
   "id": "5b585500-3e99-4a6b-8633-a5849670d35c",
   "metadata": {},
   "outputs": [
    {
     "data": {
      "text/plain": [
       "array(['July', 'August', 'September', 'October', 'November', 'December',\n",
       "       'January', 'February', 'March', 'April', 'May', 'June'],\n",
       "      dtype=object)"
      ]
     },
     "execution_count": 7,
     "metadata": {},
     "output_type": "execute_result"
    }
   ],
   "source": [
    "# check all months how are they spelled\n",
    "df['arrival_date_month'].unique()"
   ]
  },
  {
   "cell_type": "markdown",
   "id": "9c7748ec-0851-4575-8845-a0f57b5a0e1b",
   "metadata": {},
   "source": [
    "Numeric Months allow:\n",
    "- correct line or bar plot by time\n",
    "- Easy grouping "
   ]
  },
  {
   "cell_type": "code",
   "execution_count": 8,
   "id": "0231511b-a5de-4130-ad73-b3e26808e84c",
   "metadata": {},
   "outputs": [],
   "source": [
    "# Change months into numeric values\n",
    "df['month_num'] = pd.to_datetime(df['arrival_date_month'], format='%B').dt.month"
   ]
  },
  {
   "cell_type": "code",
   "execution_count": 9,
   "id": "588ed2be-1f51-41d6-8af1-0c88b39e64cf",
   "metadata": {},
   "outputs": [
    {
     "data": {
      "text/plain": [
       "array([ 7,  8,  9, 10, 11, 12,  1,  2,  3,  4,  5,  6], dtype=int32)"
      ]
     },
     "execution_count": 9,
     "metadata": {},
     "output_type": "execute_result"
    }
   ],
   "source": [
    "df['month_num'].unique()"
   ]
  },
  {
   "cell_type": "code",
   "execution_count": 10,
   "id": "f07fde6e-87f5-4be5-b8d7-d4dd6758bc18",
   "metadata": {},
   "outputs": [],
   "source": [
    "# Total number of stayed\n",
    "df['total_nights'] = df['stays_in_weekend_nights'] + df['stays_in_week_nights']"
   ]
  },
  {
   "cell_type": "code",
   "execution_count": 11,
   "id": "e3d2d3a6-edf1-41f6-ac5b-cc51f68b459b",
   "metadata": {},
   "outputs": [
    {
     "data": {
      "text/plain": [
       "array([ 0,  1,  2,  3,  4,  5,  6,  7, 14, 15, 10, 11,  8,  9, 21, 13, 12,\n",
       "       18, 46, 28, 17, 19, 22, 23, 16, 29, 42, 20, 26, 33, 30, 56, 25, 27,\n",
       "       60, 69, 35, 45, 38, 24, 48, 49, 57, 34, 43])"
      ]
     },
     "execution_count": 11,
     "metadata": {},
     "output_type": "execute_result"
    }
   ],
   "source": [
    "# check the longest stay\n",
    "df['total_nights'].unique()"
   ]
  },
  {
   "cell_type": "markdown",
   "id": "961e78a1-abd3-44c9-b552-281fb71e55d2",
   "metadata": {},
   "source": [
    "# 🔍 Exploratory Analysis\n",
    "\n",
    "In this section, we'll explore booking trends by month, season, and hotel type.\n",
    "\n",
    "---\n",
    "\n",
    "## 📆 A. Monthly Booking Trends\n",
    "\n",
    "We will group bookings by month and visualize how demand changes throughout the year. This will help identify peak and low-demand months.\n",
    "\n",
    "---\n",
    "\n",
    "## 🌤️ B. Seasonal Booking Patterns\n",
    "\n",
    "We'll categorize each booking into a season and analyze overall demand for each. This gives a broader view of how demand behaves seasonally.\n",
    "\n",
    "---\n",
    "\n",
    "## 🏨 C. Hotel Type Comparison\n",
    "\n",
    "Do City and Resort hotels behave differently across time? We'll split our analysis by hotel type to compare seasonal demand between the two.\n",
    "\n",
    "---\n",
    "\n",
    "## 🚫 D. Optional: Cancellations by Time Period\n",
    "\n",
    "We may also analyze how cancellations vary across months or seasons. This helps identify high-risk periods where extra policies or planning may be needed."
   ]
  },
  {
   "cell_type": "code",
   "execution_count": 15,
   "id": "643eb87c-44c9-4251-91b9-23302731e8fb",
   "metadata": {},
   "outputs": [
    {
     "data": {
      "image/png": "[encoded data removed]",
      "text/plain": [
       "<Figure size 1200x600 with 1 Axes>"
      ]
     },
     "metadata": {},
     "output_type": "display_data"
    }
   ],
   "source": [
    "# Convert arrival_date_month to ordered category\n",
    "month_order = ['January', 'February', 'March', 'April', 'May', 'June',\n",
    "               'July', 'August', 'September', 'October', 'November', 'December']\n",
    "\n",
    "df['arrival_date_month'] = pd.Categorical(df['arrival_date_month'], categories=month_order, ordered=True)\n",
    "\n",
    "# Group and plot\n",
    "monthly_bookings = df.groupby('arrival_date_month', observed=False).size().reset_index(name='bookings')\n",
    "\n",
    "plt.figure(figsize=(12,6))\n",
    "sns.barplot(data=monthly_bookings, x='arrival_date_month', y='bookings', color='skyblue')\n",
    "plt.title('Monthly Hotel Booking Trends')\n",
    "plt.ylabel('Number of Bookings')\n",
    "plt.xlabel('Month')\n",
    "plt.xticks(rotation=45)\n",
    "plt.tight_layout()\n",
    "plt.show()"
   ]
  },
  {
   "cell_type": "code",
   "execution_count": null,
   "id": "6a2b2c1c-8aaf-4975-8f97-2843769b585b",
   "metadata": {},
   "outputs": [],
   "source": []
  },
  {
   "cell_type": "code",
   "execution_count": null,
   "id": "aaf2377f-99f8-4735-9526-ec578d02bafc",
   "metadata": {},
   "outputs": [],
   "source": []
  },
  {
   "cell_type": "code",
   "execution_count": null,
   "id": "aefb4c99-84d2-4009-87d2-f69726e91c91",
   "metadata": {},
   "outputs": [],
   "source": []
  },
  {
   "cell_type": "code",
   "execution_count": null,
   "id": "a4f6af74-60e2-40e1-99f8-1db956308d56",
   "metadata": {},
   "outputs": [],
   "source": []
  },
  {
   "cell_type": "code",
   "execution_count": null,
   "id": "8b5a170f-16e8-412f-87cd-30ad23d32925",
   "metadata": {},
   "outputs": [],
   "source": []
  },
  {
   "cell_type": "markdown",
   "id": "12d3c9a5-8ebf-4108-9e30-574104623176",
   "metadata": {},
   "source": [
    "# 📈 Time Series View (Optional)\n",
    "\n",
    "Using a proper `date` column, we can visualize how bookings change over time.\n",
    "\n",
    "We'll:\n",
    "- Set the date as a time index.\n",
    "- Plot weekly or monthly trends.\n",
    "- Apply rolling averages to smooth fluctuations.\n",
    "\n",
    "This helps uncover patterns like yearly seasonality or long-term changes in demand."
   ]
  },
  {
   "cell_type": "markdown",
   "id": "3336e6e7-71c5-4b74-90d5-ecca7df71ee5",
   "metadata": {},
   "source": [
    "# 💡 Key Insights\n",
    "\n",
    "Here we summarize major findings from our analysis:\n",
    "\n",
    "- Which months or seasons are busiest?\n",
    "- How do Resort and City hotels compare?\n",
    "- Any unusual booking or cancellation behavior?\n",
    "\n",
    "These insights will guide recommendations for business planning."
   ]
  },
  {
   "cell_type": "markdown",
   "id": "b107f990-4da6-47f9-a520-585e26c56be2",
   "metadata": {},
   "source": [
    "# 📊 Business Recommendations\n",
    "\n",
    "Based on the insights above, here are data-driven suggestions for hotel management:\n",
    "\n",
    "- Scale staffing and operations in peak months (e.g., July, August).\n",
    "- Launch promotions during low-demand periods (e.g., January, November).\n",
    "- Implement stricter cancellation policies during high-risk seasons.\n",
    "\n",
    "Data-backed decisions can lead to better occupancy rates and customer satisfaction."
   ]
  },
  {
   "cell_type": "markdown",
   "id": "13c8d6ac-7279-491c-99ab-7c9560faa31f",
   "metadata": {},
   "source": [
    "# 🏁 Conclusion\n",
    "\n",
    "This analysis uncovered clear seasonal trends in hotel bookings using EDA techniques.\n",
    "\n",
    "We demonstrated:\n",
    "- Time-based grouping and analysis\n",
    "- Visual storytelling with Seaborn and Matplotlib\n",
    "- Insight generation for real-world business use\n",
    "\n",
    "This notebook showcases core data science skills applied to hospitality data."
   ]
  },
  {
   "cell_type": "markdown",
   "id": "f6c75298-4b2d-41d7-a458-7fb4761b948d",
   "metadata": {},
   "source": [
    "# 📎 Appendix\n",
    "\n",
    "- Extra charts, helper functions, or alternate views\n",
    "- Python and package versions\n",
    "- Notes for future improvement"
   ]
  },
  {
   "cell_type": "code",
   "execution_count": null,
   "id": "009de56f-b499-4902-a292-d25118404819",
   "metadata": {},
   "outputs": [],
   "source": []
  },
  {
   "cell_type": "code",
   "execution_count": null,
   "id": "43964971-468e-48a7-a3ba-e6bb36e95f41",
   "metadata": {},
   "outputs": [],
   "source": []
  }
 ],
 "metadata": {
  "kernelspec": {
   "display_name": "Python 3 (ipykernel)",
   "language": "python",
   "name": "python3"
  },
  "language_info": {
   "codemirror_mode": {
    "name": "ipython",
    "version": 3
   },
   "file_extension": ".py",
   "mimetype": "text/x-python",
   "name": "python",
   "nbconvert_exporter": "python",
   "pygments_lexer": "ipython3",
   "version": "3.12.7"
  }
 },
 "nbformat": 4,
 "nbformat_minor": 5
}
